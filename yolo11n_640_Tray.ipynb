{
  "cells": [
    {
      "cell_type": "markdown",
      "metadata": {
        "id": "view-in-github",
        "colab_type": "text"
      },
      "source": [
        "<a href=\"https://colab.research.google.com/github/naitotomoyuki/YoloLearning_with_ggl_colab/blob/main/yolo11n_640_Tray.ipynb\" target=\"_parent\"><img src=\"https://colab.research.google.com/assets/colab-badge.svg\" alt=\"Open In Colab\"/></a>"
      ]
    },
    {
      "cell_type": "markdown",
      "metadata": {
        "id": "VKi9MVg_TPpO"
      },
      "source": []
    },
    {
      "cell_type": "code",
      "execution_count": 1,
      "metadata": {
        "id": "KmD3-tIHYMxN"
      },
      "outputs": [],
      "source": [
        "from google.colab import files\n",
        "import os\n",
        "import numpy as np, torch, random\n",
        "import shutil"
      ]
    },
    {
      "cell_type": "code",
      "execution_count": 2,
      "metadata": {
        "id": "Ynu65gh9TSUV"
      },
      "outputs": [],
      "source": [
        "import locale\n",
        "def getpreferredencoding(do_setlocale = True):\n",
        "    return \"UTF-8\"\n",
        "locale.getpreferredencoding = getpreferredencoding"
      ]
    },
    {
      "cell_type": "code",
      "execution_count": 3,
      "metadata": {
        "collapsed": true,
        "id": "f438YCUbNO6D"
      },
      "outputs": [],
      "source": [
        "!export LC_ALL=C.UTF-8\n",
        "!export LANG=C.UTF-8\n",
        "!export LANGUAGE=C.UTF-8"
      ]
    },
    {
      "cell_type": "code",
      "source": [
        "# --- imports\n",
        "import torch, random, numpy as np\n",
        "\n",
        "# --- xywh(正規化) 90°回転\n",
        "def _rotate_xywh_norm(xywh, k):\n",
        "    x, y, w, h = xywh.unbind(-1)\n",
        "    k = int(k) % 4\n",
        "    if k == 0:\n",
        "        xn, yn, wn, hn = x, y, w, h\n",
        "    elif k == 1:   # +90° CCW\n",
        "        xn, yn, wn, hn = 1.0 - y, x,       h, w\n",
        "    elif k == 2:   # 180°\n",
        "        xn, yn, wn, hn = 1.0 - x, 1.0 - y, w, h\n",
        "    else:          # 270° (= -90°)\n",
        "        xn, yn, wn, hn = y, 1.0 - x,       h, w\n",
        "    return torch.stack([xn, yn, wn, hn], dim=-1)\n",
        "\n",
        "# --- xyxy(ピクセル) 90°回転\n",
        "def _rotate_xyxy_pix(xyxy, W, H, k):\n",
        "    b = xyxy.clone()\n",
        "    k = int(k) % 4\n",
        "    if k == 0:\n",
        "        return b\n",
        "    for _ in range(k):  # 90°ずつ回す（CCW）\n",
        "        x1,y1,x2,y2 = b[:,0].clone(), b[:,1].clone(), b[:,2].clone(), b[:,3].clone()\n",
        "        b[:,0], b[:,1] = W - y2, x1\n",
        "        b[:,2], b[:,3] = W - y1, x2\n",
        "        W, H = H, W\n",
        "    return b\n",
        "\n",
        "def rotate_batch_90deg_callback(trainer):\n",
        "    b = getattr(trainer, \"batch\", None)\n",
        "    if not b or \"img\" not in b or b[\"img\"].ndim != 4:\n",
        "        return\n",
        "\n",
        "    # 適用率（epoch とともに 0.7→0.2）\n",
        "    e = getattr(trainer, \"epoch\", 0)\n",
        "    E = getattr(trainer, \"epochs\", 300)\n",
        "    p = float(np.interp(e, [0, 0.5*E, E], [0.7, 0.4, 0.2]))\n",
        "    trainer.rot_seen = getattr(trainer, \"rot_seen\", 0) + 1\n",
        "    if random.random() > p:\n",
        "        return\n",
        "\n",
        "    k = 1 if random.random() < 0.7 else 3  # 90°:270° = 7:3\n",
        "    imgs = b[\"img\"]\n",
        "    H, W = imgs.shape[-2], imgs.shape[-1]\n",
        "    b[\"img\"] = torch.rot90(imgs, k=k, dims=[-2, -1])\n",
        "\n",
        "    # bboxes があれば安全に回す（形式自動判定）\n",
        "    if b.get(\"bboxes\", None) is not None and b[\"bboxes\"].numel() > 0:\n",
        "        boxes = b[\"bboxes\"]\n",
        "        # 値域で形式推定（<=1.5 なら正規化とみなす）\n",
        "        if float(boxes.max()) <= 1.5:\n",
        "            b[\"bboxes\"] = _rotate_xywh_norm(boxes, k)\n",
        "        else:\n",
        "            # ピクセル座標。xyxyかxywhかを簡易判定\n",
        "            # （w,h が正の場合 → xywh の可能性が高い）\n",
        "            if \"bbox_format\" in b and b[\"bbox_format\"] == \"xyxy\":\n",
        "                b[\"bboxes\"] = _rotate_xyxy_pix(boxes, W, H, k)\n",
        "            else:\n",
        "                # xywh ピクセル → いったん正規化→回転→ピクセルに戻す\n",
        "                cx, cy, bw, bh = boxes.unbind(-1)\n",
        "                xn = cx / W; yn = cy / H; wn = bw / W; hn = bh / H\n",
        "                rot = _rotate_xywh_norm(torch.stack([xn,yn,wn,hn], dim=-1), k)\n",
        "                rcx, rcy, rw, rh = rot.unbind(-1)\n",
        "                b[\"bboxes\"] = torch.stack([rcx*W, rcy*H, rw*W, rh*H], dim=-1)\n",
        "\n",
        "    trainer.rot_applied = getattr(trainer, \"rot_applied\", 0) + 1\n",
        "\n",
        "def log_rotate_ratio(trainer):\n",
        "    if getattr(trainer, \"rot_seen\", 0):\n",
        "        r = trainer.rot_applied / max(1, trainer.rot_seen)\n",
        "        print(f\"[epoch {trainer.epoch}] rotate90 applied ratio: {r:.2f}\")\n",
        "        trainer.rot_seen = 0; trainer.rot_applied = 0\n",
        "\n",
        "def register_callbacks(model):\n",
        "    # できれば前段で。失敗したら start に登録\n",
        "    try:\n",
        "        model.add_callback(\"on_preprocess_batch\", rotate_batch_90deg_callback)\n",
        "    except Exception:\n",
        "        model.add_callback(\"on_train_batch_start\", rotate_batch_90deg_callback)\n",
        "    model.add_callback(\"on_train_epoch_end\", log_rotate_ratio)\n"
      ],
      "metadata": {
        "id": "1JOCYMhyp2ts"
      },
      "execution_count": 12,
      "outputs": []
    },
    {
      "cell_type": "code",
      "execution_count": null,
      "metadata": {
        "id": "hqHJgmagKOsm"
      },
      "outputs": [],
      "source": [
        "output_dir = \"runs_experiment\"  # runs_experimentが既に存在している場合削除\n",
        "if os.path.exists(output_dir):\n",
        "    shutil.rmtree(output_dir)\n",
        "    print(f\"✅ ディレクトリ '{output_dir}' を削除しました。\")\n",
        "else:\n",
        "    print(f\"⚠️ ディレクトリ '{output_dir}' は存在しません。\")\n",
        "\n",
        "from google.colab import drive\n",
        "drive.flush_and_unmount()\n",
        "drive.mount('/content/drive')"
      ]
    },
    {
      "cell_type": "code",
      "execution_count": null,
      "metadata": {
        "collapsed": true,
        "id": "pMfiPX77P7d8"
      },
      "outputs": [],
      "source": [
        "#!pip install -U torch torchvision torchaudio\n",
        "!pip -q install ultralytics==8.3.177 --no-deps"
      ]
    },
    {
      "cell_type": "code",
      "execution_count": null,
      "metadata": {
        "collapsed": true,
        "id": "V7XeP7IKKj2j"
      },
      "outputs": [],
      "source": [
        "#!rsync -ah --progress /content/drive/MyDrive/dataset/ /content/dataset/\n",
        "#超重要！！！！！\n",
        "#ローカルPCでdatasetをdataset.zipに圧縮してMyDriveへコピーしてください。\n",
        "\n",
        "# ZIPファイルをGoogle DriveからColabへコピー\n",
        "!rsync -ah --progress /content/drive/MyDrive/dataset.zip /content/\n",
        "\n",
        "# ZIPファイルを解凍\n",
        "!unzip -o /content/dataset.zip -d /content/\n",
        "\n",
        "# (任意) 解凍後のZIPファイルを削除してディスクを節約\n",
        "!rm /content/dataset.zip"
      ]
    },
    {
      "cell_type": "code",
      "execution_count": null,
      "metadata": {
        "id": "KGcHAX_4i6Z8"
      },
      "outputs": [],
      "source": [
        "# YAML\n",
        "import yaml\n",
        "\n",
        "# YAMLファイルを読み込む\n",
        "data_yaml = \"/content/dataset/data.yaml\"\n",
        "with open(data_yaml, \"r\") as file:\n",
        "    data = yaml.safe_load(file)\n",
        "\n",
        "# 変更したいパス\n",
        "data[\"test\"] = \"./images/test\"\n",
        "data[\"train\"] = \"./images/train\"\n",
        "data[\"val\"] = \"./images/val\"\n",
        "\n",
        "# YAMLファイルを書き戻す\n",
        "with open(data_yaml, \"w\") as file:\n",
        "    yaml.safe_dump(data, file, default_flow_style=False)\n",
        "\n",
        "print(\"data.yaml のパスを更新しました。\")"
      ]
    },
    {
      "cell_type": "code",
      "execution_count": 13,
      "metadata": {
        "collapsed": true,
        "id": "U-uMHhBsLWBz"
      },
      "outputs": [],
      "source": [
        "# yolo学習用関数（callbacks= を train() に渡さない）\n",
        "from ultralytics import YOLO\n",
        "import os\n",
        "\n",
        "def train_yolo(\n",
        "    model_path,\n",
        "    data_yaml,\n",
        "    epochs=300,\n",
        "    batch_size=16,\n",
        "    img_size=1280,\n",
        "    output_dir=\"runs_experiment\",\n",
        "    iou_nms=0.9,\n",
        "    mosaic=0.15, mixup=0.05, copy_paste=0.6, close_mosaic=15,\n",
        "    degrees=5.0, shear=0.0, perspective=0.0, translate=0.05, scale=0.2,\n",
        "    hsv_h=0.015, hsv_s=0.7, hsv_v=0.4,\n",
        "    erasing=0.1, fliplr=0.5, flipud=0.0,\n",
        "    lr0=0.004,\n",
        "    optimizer=\"AdamW\",\n",
        "    cos_lr=True,\n",
        "    warmup_epochs=3,\n",
        "    amp=True,\n",
        "    workers=0,\n",
        "    project_name=\"yolo_project\",\n",
        "    **kwargs,\n",
        "):\n",
        "    print(f\"Loading model from {model_path}\")\n",
        "    model = YOLO(model_path)\n",
        "\n",
        "    # ← ここでコールバックを登録（train()には渡さない）\n",
        "    # model.add_callback(\"on_train_batch_start\", rotate_batch_90deg_callback)\n",
        "    register_callbacks(model)  # 可視化に反映＆適用率ログ\n",
        "\n",
        "    os.makedirs(output_dir, exist_ok=True)\n",
        "    print(f\"Training YOLO with {epochs} epochs…\")\n",
        "\n",
        "    model.train(\n",
        "        data=data_yaml,\n",
        "        epochs=epochs,\n",
        "        batch=batch_size,\n",
        "        imgsz=img_size,\n",
        "        optimizer=optimizer, lr0=lr0, cos_lr=cos_lr, warmup_epochs=warmup_epochs,\n",
        "\n",
        "        mosaic=mosaic, mixup=mixup, copy_paste=copy_paste, close_mosaic=close_mosaic,\n",
        "        degrees=degrees, shear=shear, perspective=perspective,\n",
        "        translate=translate, scale=scale,\n",
        "        hsv_h=hsv_h, hsv_s=hsv_s, hsv_v=hsv_v,\n",
        "        erasing=erasing, fliplr=fliplr, flipud=flipud,\n",
        "\n",
        "        iou=iou_nms,     # ← OK\n",
        "\n",
        "        amp=amp, workers=workers,\n",
        "        project=output_dir, name=project_name,\n",
        "        **kwargs,\n",
        "    )\n"
      ]
    },
    {
      "cell_type": "code",
      "execution_count": null,
      "metadata": {
        "id": "GbNXDl6W6-Y8"
      },
      "outputs": [],
      "source": [
        "# ====== 実行パラメータ ======\n",
        "model_path = \"/content/drive/MyDrive/yolo11n.pt\"  # or \"/content/drive/MyDrive/last.pt\"\n",
        "data_yaml = \"/content/dataset/data.yaml\"\n",
        "project_name = \"yolo11n_640_learning\"\n",
        "output_dir = \"runs_experiment\"\n",
        "\n",
        "train_params = {\n",
        "    \"model_path\": model_path,\n",
        "    \"data_yaml\": data_yaml,\n",
        "    \"epochs\": 300,\n",
        "    \"batch_size\": 64,\n",
        "    \"lr0\": 0.0025,\n",
        "    \"img_size\": 640,\n",
        "    \"output_dir\": output_dir,\n",
        "    \"cache\": \"ram\",\n",
        "    \"rect\": False,\n",
        "    \"multi_scale\": False,\n",
        "\n",
        "    \"iou_nms\": 0.55,              # ← ここを使う（\"iou\" は削除）\n",
        "\n",
        "    \"mosaic\": 0.0, \"mixup\": 0.0, \"copy_paste\": 0.0, \"close_mosaic\": 0,\n",
        "    \"degrees\": 0.0, \"shear\": 0.0, \"perspective\": 0.0,\n",
        "    \"translate\": 0.05, \"scale\": 0.2,   # ← 重複を整理\n",
        "    \"hsv_h\": 0.015, \"hsv_s\": 0.4, \"hsv_v\": 0.2,\n",
        "    \"erasing\": 0.0, \"fliplr\": 0.2, \"flipud\": 0.0,\n",
        "\n",
        "    \"optimizer\": \"AdamW\",\n",
        "    \"cos_lr\": True,\n",
        "    \"warmup_epochs\": 3,\n",
        "    \"amp\": True,\n",
        "    \"workers\": 2,\n",
        "    \"project_name\": project_name,\n",
        "    \"cls\": 1.0,\n",
        "}\n",
        "train_yolo(**train_params)\n",
        "\n"
      ]
    },
    {
      "cell_type": "code",
      "execution_count": null,
      "metadata": {
        "id": "nqP5hOwPYQml"
      },
      "outputs": [],
      "source": [
        "#output_dir = \"runs_experiment\"\n",
        "best_model_path = f\"{output_dir}/{project_name}/weights/best.pt\"\n",
        "last_model_path = f\"{output_dir}/{project_name}/weights/last.pt\"\n",
        "\n",
        "from google.colab import files\n",
        "import os\n",
        "\n",
        "for model_path in [best_model_path, last_model_path]:\n",
        "    if os.path.exists(model_path):\n",
        "        print(f\"Downloading: {model_path}\")\n",
        "        files.download(model_path)\n",
        "    else:\n",
        "        print(f\"[ERROR] {os.path.basename(model_path)} が見つかりません: {model_path}\")\n",
        "\n"
      ]
    }
  ],
  "metadata": {
    "accelerator": "GPU",
    "colab": {
      "gpuType": "A100",
      "provenance": [],
      "machine_shape": "hm",
      "include_colab_link": true
    },
    "kernelspec": {
      "display_name": "Python 3",
      "name": "python3"
    },
    "language_info": {
      "name": "python"
    }
  },
  "nbformat": 4,
  "nbformat_minor": 0
}