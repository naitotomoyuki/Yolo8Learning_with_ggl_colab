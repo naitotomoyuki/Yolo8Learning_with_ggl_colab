{
  "cells": [
    {
      "cell_type": "markdown",
      "metadata": {
        "id": "view-in-github",
        "colab_type": "text"
      },
      "source": [
        "<a href=\"https://colab.research.google.com/github/naitotomoyuki/YoloLearning_with_ggl_colab/blob/main/yolo12s_Tray.ipynb\" target=\"_parent\"><img src=\"https://colab.research.google.com/assets/colab-badge.svg\" alt=\"Open In Colab\"/></a>"
      ]
    },
    {
      "cell_type": "markdown",
      "metadata": {
        "id": "VKi9MVg_TPpO"
      },
      "source": []
    },
    {
      "cell_type": "code",
      "execution_count": null,
      "metadata": {
        "id": "KmD3-tIHYMxN"
      },
      "outputs": [],
      "source": [
        "from google.colab import files\n",
        "import os\n",
        "import shutil"
      ]
    },
    {
      "cell_type": "code",
      "execution_count": null,
      "metadata": {
        "id": "Ynu65gh9TSUV"
      },
      "outputs": [],
      "source": [
        "import locale\n",
        "def getpreferredencoding(do_setlocale = True):\n",
        "    return \"UTF-8\"\n",
        "locale.getpreferredencoding = getpreferredencoding"
      ]
    },
    {
      "cell_type": "code",
      "execution_count": null,
      "metadata": {
        "collapsed": true,
        "id": "f438YCUbNO6D"
      },
      "outputs": [],
      "source": [
        "!export LC_ALL=C.UTF-8\n",
        "!export LANG=C.UTF-8\n",
        "!export LANGUAGE=C.UTF-8"
      ]
    },
    {
      "cell_type": "code",
      "source": [
        "# --- 縦横90°切替を学習に混ぜるコールバック ---\n",
        "import torch, random\n",
        "\n",
        "def _rotate_xywh_norm(xywh, k):\n",
        "    x, y, w, h = xywh.unbind(-1)\n",
        "    if k % 4 == 0:      xn, yn, wn, hn = x,       y,       w, h\n",
        "    elif k % 4 == 1:    xn, yn, wn, hn = 1.0 - y, x,       h, w   # +90° CCW\n",
        "    elif k % 4 == 2:    xn, yn, wn, hn = 1.0 - x, 1.0 - y, w, h   # 180°\n",
        "    else:               xn, yn, wn, hn = y,       1.0 - x, h, w   # 270°\n",
        "    return torch.stack([xn, yn, wn, hn], dim=-1)\n",
        "\n",
        "def rotate_batch_90deg_callback(trainer):\n",
        "    # バッチ全体に 90°/270° を p で適用（縦⇄横の切替を学習させる）\n",
        "    p = 0.3\n",
        "    if random.random() > p:\n",
        "        return\n",
        "    b = trainer.batch\n",
        "    imgs = b.get(\"img\", None)\n",
        "    if imgs is None or imgs.ndim != 4:\n",
        "        return\n",
        "    k = random.choice([1, 3])  # 90° or 270°\n",
        "    b[\"img\"] = torch.rot90(imgs, k=k, dims=[-2, -1])\n",
        "    if b.get(\"bboxes\", None) is not None and b[\"bboxes\"].numel() > 0:\n",
        "        b[\"bboxes\"] = _rotate_xywh_norm(b[\"bboxes\"], k)\n",
        "\n",
        "callbacks = {\"on_preprocess_batch\": rotate_batch_90deg_callback}\n"
      ],
      "metadata": {
        "id": "1JOCYMhyp2ts"
      },
      "execution_count": null,
      "outputs": []
    },
    {
      "cell_type": "code",
      "execution_count": null,
      "metadata": {
        "id": "hqHJgmagKOsm"
      },
      "outputs": [],
      "source": [
        "output_dir = \"runs_experiment\"  # runs_experimentが既に存在している場合削除\n",
        "if os.path.exists(output_dir):\n",
        "    shutil.rmtree(output_dir)\n",
        "    print(f\"✅ ディレクトリ '{output_dir}' を削除しました。\")\n",
        "else:\n",
        "    print(f\"⚠️ ディレクトリ '{output_dir}' は存在しません。\")\n",
        "\n",
        "from google.colab import drive\n",
        "drive.flush_and_unmount()\n",
        "drive.mount('/content/drive')"
      ]
    },
    {
      "cell_type": "code",
      "execution_count": null,
      "metadata": {
        "collapsed": true,
        "id": "pMfiPX77P7d8"
      },
      "outputs": [],
      "source": [
        "#!pip install -U torch torchvision torchaudio\n",
        "!pip -q install ultralytics==8.3.177 --no-deps"
      ]
    },
    {
      "cell_type": "code",
      "execution_count": null,
      "metadata": {
        "collapsed": true,
        "id": "V7XeP7IKKj2j"
      },
      "outputs": [],
      "source": [
        "#!rsync -ah --progress /content/drive/MyDrive/dataset/ /content/dataset/\n",
        "#超重要！！！！！\n",
        "#ローカルPCでdatasetをdataset.zipに圧縮してMyDriveへコピーしてください。\n",
        "\n",
        "# ZIPファイルをGoogle DriveからColabへコピー\n",
        "!rsync -ah --progress /content/drive/MyDrive/dataset.zip /content/\n",
        "\n",
        "# ZIPファイルを解凍\n",
        "!unzip -o /content/dataset.zip -d /content/\n",
        "\n",
        "# (任意) 解凍後のZIPファイルを削除してディスクを節約\n",
        "!rm /content/dataset.zip"
      ]
    },
    {
      "cell_type": "code",
      "execution_count": null,
      "metadata": {
        "id": "KGcHAX_4i6Z8",
        "colab": {
          "base_uri": "https://localhost:8080/"
        },
        "outputId": "3a2a6ca3-b05e-4b61-c748-b57f4a9c737b"
      },
      "outputs": [
        {
          "output_type": "stream",
          "name": "stdout",
          "text": [
            "data.yaml のパスを更新しました。\n"
          ]
        }
      ],
      "source": [
        "# YAML\n",
        "import yaml\n",
        "\n",
        "# YAMLファイルを読み込む\n",
        "data_yaml = \"/content/dataset/data.yaml\"\n",
        "with open(data_yaml, \"r\") as file:\n",
        "    data = yaml.safe_load(file)\n",
        "\n",
        "# 変更したいパス\n",
        "data[\"test\"] = \"./images/test\"\n",
        "data[\"train\"] = \"./images/train\"\n",
        "data[\"val\"] = \"./images/val\"\n",
        "\n",
        "# YAMLファイルを書き戻す\n",
        "with open(data_yaml, \"w\") as file:\n",
        "    yaml.safe_dump(data, file, default_flow_style=False)\n",
        "\n",
        "print(\"data.yaml のパスを更新しました。\")"
      ]
    },
    {
      "cell_type": "code",
      "execution_count": null,
      "metadata": {
        "collapsed": true,
        "id": "U-uMHhBsLWBz"
      },
      "outputs": [],
      "source": [
        "# yolo学習用関数の定義（Colab用）\n",
        "from ultralytics import YOLO\n",
        "import os\n",
        "\n",
        "def train_yolo(\n",
        "    model_path,\n",
        "    data_yaml,\n",
        "    epochs=200,\n",
        "    batch_size=16,\n",
        "    img_size=960,\n",
        "    output_dir=\"runs_experiment\",\n",
        "    iou_nms=0.9,\n",
        "    mosaic=0.15,\n",
        "    mixup=0.05,\n",
        "    copy_paste=0.6,\n",
        "    close_mosaic=15,\n",
        "    degrees=0.0, shear=0.0, perspective=0.0, translate=0.05, scale=0.2,\n",
        "    hsv_h=0.015, hsv_s=0.7, hsv_v=0.4,\n",
        "    erasing=0.1, fliplr=0.5, flipud=0.0,\n",
        "    lr0=0.004,\n",
        "    optimizer=\"AdamW\",\n",
        "    cos_lr=True,\n",
        "    warmup_epochs=3,\n",
        "    amp=True,\n",
        "    workers=0,\n",
        "    project_name=\"yolo_project\",\n",
        "    callbacks=callbacks,\n",
        "    **kwargs,                       # ← ここが必須（末尾にカンマも）\n",
        "    #seed = 42, #モデル比較時の乱数設定\n",
        "):\n",
        "    print(f\"Loading model from {model_path}\")\n",
        "    model = YOLO(model_path)\n",
        "\n",
        "    os.makedirs(output_dir, exist_ok=True)\n",
        "    print(f\"Training YOLO with {epochs} epochs…\")\n",
        "\n",
        "    model.train(\n",
        "        data=data_yaml,\n",
        "        epochs=epochs,\n",
        "        batch=batch_size,\n",
        "        imgsz=img_size,\n",
        "\n",
        "        # 途中チェックポイントは作らない（save_periodを渡さない）\n",
        "        # save=True のままでOK（best.pt & last.ptは出力される）\n",
        "\n",
        "        # 学習率まわり\n",
        "        optimizer=optimizer,\n",
        "        lr0=lr0,\n",
        "        cos_lr=cos_lr,\n",
        "        warmup_epochs=warmup_epochs,\n",
        "\n",
        "        # Aug/正則化\n",
        "        mosaic=mosaic,\n",
        "        mixup=mixup,\n",
        "        copy_paste=copy_paste,\n",
        "        close_mosaic=close_mosaic,\n",
        "        degrees=degrees,\n",
        "        shear=shear,\n",
        "        perspective=perspective,\n",
        "        translate=translate,\n",
        "        scale=scale,\n",
        "        hsv_h=hsv_h, hsv_s=hsv_s, hsv_v=hsv_v,\n",
        "        erasing=erasing,\n",
        "        fliplr=fliplr,\n",
        "        flipud=flipud,\n",
        "\n",
        "        # 検証時NMS\n",
        "        iou=iou_nms,\n",
        "\n",
        "        # 実行系\n",
        "        amp=amp,\n",
        "        workers=workers,\n",
        "        project=output_dir,\n",
        "        name=project_name,\n",
        "\n",
        "        # 追加パラメータ（cacheやrect、patience等）はここから注入\n",
        "        **kwargs,\n",
        "        # callbacks=callbacks   # ← ここでRandomRotate90適用\n",
        "    )\n",
        "\n",
        "    print(f\"Training complete. Results saved to {output_dir}/{project_name}\")"
      ]
    },
    {
      "cell_type": "code",
      "execution_count": null,
      "metadata": {
        "id": "GbNXDl6W6-Y8"
      },
      "outputs": [],
      "source": [
        "# ====== 設定 ======\n",
        "model_path = \"/content/drive/MyDrive/yolo11n.pt\"  # 初回学習\n",
        "# model_path = \"/content/drive/MyDrive/last.pt\"  # 継続学習の場合\n",
        "\n",
        "data_yaml = \"/content/dataset/data.yaml\"\n",
        "project_name = \"yolo_learning\"\n",
        "output_dier = \"runs_experiment\"\n",
        "\n",
        "train_params = {\n",
        "    \"model_path\": model_path,\n",
        "    \"data_yaml\": data_yaml,\n",
        "    \"epochs\": 200,\n",
        "    \"batch_size\": 32,\n",
        "    \"lr0\": 0.004,\n",
        "    \"img_size\": 960,\n",
        "    \"output_dir\": output_dier,\n",
        "    \"cache\": \"ram\",\n",
        "    \"rect\": True,\n",
        "    \"iou_nms\": 0.60,\n",
        "    \"mosaic\": 0.0,\n",
        "    \"mixup\": 0.0,\n",
        "    \"copy_paste\": 0.0,\n",
        "    \"close_mosaic\": 0,\n",
        "    \"degrees\": 5.0,\n",
        "    \"shear\": 0.0,\n",
        "    \"perspective\": 0.0,\n",
        "    \"translate\": 0.03,\n",
        "    \"scale\": 0.2,\n",
        "    \"hsv_h\": 0.015,\n",
        "    \"hsv_s\": 0.7,\n",
        "    \"hsv_v\": 0.4,\n",
        "    \"erasing\": 0.1,\n",
        "    \"fliplr\": 0.2,\n",
        "    \"flipud\": 0.0,\n",
        "    \"lr0\": 0.004,\n",
        "    \"optimizer\": \"AdamW\",\n",
        "    \"cos_lr\": True,\n",
        "    \"warmup_epochs\": 3,\n",
        "    \"amp\": True,\n",
        "    \"workers\": 2,\n",
        "    \"project_name\": project_name,\n",
        "    # \"callbacks\": callbacks # Callbacks are not a valid argument in this version\n",
        "}\n",
        "\n",
        "# ====== 実行 ======\n",
        "train_yolo(**train_params)"
      ]
    },
    {
      "cell_type": "code",
      "execution_count": null,
      "metadata": {
        "id": "nqP5hOwPYQml"
      },
      "outputs": [],
      "source": [
        "#output_dir = \"runs_experiment\"\n",
        "best_model_path = f\"{output_dir}/{project_name}/weights/best.pt\"\n",
        "last_model_path = f\"{output_dir}/{project_name}/weights/last.pt\"\n",
        "\n",
        "from google.colab import files\n",
        "import os\n",
        "\n",
        "for model_path in [best_model_path, last_model_path]:\n",
        "    if os.path.exists(model_path):\n",
        "        print(f\"Downloading: {model_path}\")\n",
        "        files.download(model_path)\n",
        "    else:\n",
        "        print(f\"[ERROR] {os.path.basename(model_path)} が見つかりません: {model_path}\")\n",
        "\n"
      ]
    }
  ],
  "metadata": {
    "accelerator": "GPU",
    "colab": {
      "gpuType": "A100",
      "provenance": [],
      "machine_shape": "hm",
      "include_colab_link": true
    },
    "kernelspec": {
      "display_name": "Python 3",
      "name": "python3"
    },
    "language_info": {
      "name": "python"
    }
  },
  "nbformat": 4,
  "nbformat_minor": 0
}